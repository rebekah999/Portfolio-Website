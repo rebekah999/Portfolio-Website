{
 "cells": [
  {
   "cell_type": "markdown",
   "id": "40118273-697e-48a9-b7b6-7ef6f72b07a0",
   "metadata": {},
   "source": [
    "# Portfolio Website"
   ]
  },
  {
   "cell_type": "markdown",
   "id": "06417681-caec-4892-947a-cfbe104d20cf",
   "metadata": {},
   "source": [
    "## Imports\n"
   ]
  },
  {
   "cell_type": "code",
   "execution_count": 1,
   "id": "6bb3fd7b-a08f-4ccf-aa47-8c93aff24fb6",
   "metadata": {},
   "outputs": [],
   "source": [
    "# Dash\n",
    "import dash  # Main Dash library\n",
    "from dash import Dash, html, dcc, callback, Output, Input  # Dash components and utilities\n",
    "\n",
    "# Bootstrap Libraries\n",
    "import dash_bootstrap_components as dbc  # Bootstrap components for Dash\n",
    "import dash_mantine_components as dmc  # Mantine components for Dash"
   ]
  },
  {
   "cell_type": "markdown",
   "id": "5bf247aa-e41c-45f8-a7aa-395eb46df144",
   "metadata": {},
   "source": [
    "## Website Content\n"
   ]
  },
  {
   "cell_type": "code",
   "execution_count": 2,
   "id": "1e3b49b2-c486-4a7f-b085-cc1102907864",
   "metadata": {},
   "outputs": [],
   "source": [
    "# List of dictionaries for each of my skills\n",
    "skills_list = [\n",
    "    {\n",
    "        \"id\": \"python-skills\",\n",
    "        \"image\": \"https://raw.githubusercontent.com/rebekah999/rebekah999.github.io/main/Website%20Icons/python-programming-language-icon.png\",\n",
    "        \"label\": \"Python\",\n",
    "        \"description\": \"Python 3\",\n",
    "        \"content\": \"Object oriented Programming, Data Manipulation and Analysis, Data Visualization, Machine Learning, Statistical Modeling, Data Cleaning, Feature Engineering, Model Evaluation and Validation, Time Series Analysis, Database Management, Rest API data retrieval, Web Development, Pandas, NumPy, Matplotlib, Seaborn, Dash, Scikit-Learn, Statsmodels, Plotly, SciPy, SQLAlchemy, Jupyter Notebook / JupyterLab\"\n",
    "    },\n",
    "    {\n",
    "        \"id\": \"sql-skills\",\n",
    "        \"image\": \"https://raw.githubusercontent.com/rebekah999/rebekah999.github.io/main/Website%20Icons/postgresql.248x256.png\",\n",
    "        \"label\": \"SQL\",\n",
    "        \"description\": \"PostgreSQL\",\n",
    "        \"content\": \"Database Management, Data Manipulation, Analytic Functions, EDA, Subqueries, Statistical Functions, pgAdmin 4\"\n",
    "    },\n",
    "    {\n",
    "        \"id\": \"tableau-skills\",\n",
    "        \"image\": \"https://raw.githubusercontent.com/rebekah999/rebekah999.github.io/49a1e7d6966c1492dcff8936e4cb04b3eea45232/Website%20Icons/tableau-icon-svgrepo-com.svg\",\n",
    "        \"label\": \"Tableau\",\n",
    "        \"description\": \"Tableau Public\",\n",
    "        \"content\": \"Data Connection and Preparation, Visualization Techniques, Dashboard and Story Creation, Calculated Fields and Expressions, Mapping and Geographic Analysis, Parameters and Filters, Storytelling\"\n",
    "    },\n",
    "    {\n",
    "        \"id\": \"excel-skills\",\n",
    "        \"image\": \"https://raw.githubusercontent.com/rebekah999/rebekah999.github.io/main/Website%20Icons/microsoft-excel-icon.png\",\n",
    "        \"label\": \"Excel\",\n",
    "        \"description\": \"Microsoft 365\",\n",
    "        \"content\": \"Data Connections, Data Entry and Formatting, Formulas and Functions, Data Cleaning and Transformation, PivotTables, Charts and Graphs, Conditional Formatting, Data Analysis Tools, Data Visualization, Data Tables, Data Protection, VLOOKUP, Slicers, Interactive dashboard Design\"\n",
    "    }\n",
    "]\n"
   ]
  },
  {
   "cell_type": "code",
   "execution_count": 3,
   "id": "b7910988-6f89-4dec-83ff-3ffb13579e0e",
   "metadata": {},
   "outputs": [],
   "source": [
    "home_content = \"Lorem ipsum dolor\"\n",
    "about_content = \"Hello, I'm Rebekah Fowler, a freelance data analyst with two years of experience in freelancing. I specialize in Python, SQL, Tableau, and Excel, with expertise in working with financial data. My passion lies in unraveling the stories hidden within data, enabling organizations to make informed and impactful decisions.\"\n",
    "skills_content = \"Lorem ipsum dolor\"\n",
    "contact_content = \"Lorem ipsum dolor\""
   ]
  },
  {
   "cell_type": "code",
   "execution_count": 4,
   "id": "9b633197-79af-4a24-a5ad-e4e125c0636f",
   "metadata": {},
   "outputs": [],
   "source": [
    "# List of dictionaries for portfolio projects\n",
    "projects_list = [\n",
    "    {\n",
    "        \"image_src\": \"https://rebekahfowler.com/Project%20Previews/S&P%20500%20Database%20Pipeline.png\",\n",
    "        \"title\": \"S&P 500 Database Pipeline\",\n",
    "        \"description\": \"This notebook enables users to analyze SPY options trading data based on a specified expiration date. It calculates SPY's trading range for the selected date and retrieves all options that traded at the money (ATM) on that day and expire on the given date. Subsequently, it uploads both the underlying stock data and options data to a locally hosted PostgreSQL database.\",\n",
    "        \"button_text\": \"Link to GitHub Repository\",\n",
    "        \"button_href\": \"https://github.com/rebekah999/Data-Analysis-Portfolio/blob/main/%20S%26P%20500%20Database%20Pipeline.ipynb\",\n",
    "        \"technology\": \"Python\"\n",
    "    },\n",
    "    {\n",
    "        \"image_src\": \"https://rebekahfowler.com/Project%20Previews/Term%20Deposit%20Campaign.png\",\n",
    "        \"title\": \"Marketing Analysis: Term Deposit Campaign\",\n",
    "        \"description\": \"This storyboard is designed to compare the success of the current term deposit marketing campaign with the previous one, as well as to identify the demographic groups that responded best to the current campaign.\",\n",
    "        \"button_text\": \"Link to Tableau Public\",\n",
    "        \"button_href\": \"https://public.tableau.com/app/profile/fowler.rebekah/viz/MarketingAnalysis_17062759188240/TermDepositCampaign\",\n",
    "        \"technology\": \"Tableau\"\n",
    "    }, \n",
    "    {\n",
    "        \"image_src\": \"https://rebekahfowler.com/Project%20Previews/Bike%20Store%20Sales%20Analysis.png\",\n",
    "        \"title\": \"Bike Store Sales Analysis\",\n",
    "        \"description\": \"A SQL file with queries providing insights into order processing, revenue analysis, customer behavior, inventory management, and employee performance.\",\n",
    "        \"button_text\": \"Link to GitHub Repository\",\n",
    "        \"button_href\": \"https://github.com/rebekah999/Data-Analysis-Portfolio/blob/main/Bike%20Store%20Sales%20Analysis.sql\",\n",
    "        \"technology\": \"SQL\"\n",
    "    },\n",
    "    {\n",
    "        \"image_src\": \"https://rebekahfowler.com/Project%20Previews/2022%20Milwaukee%20Property%20Sales.png\",\n",
    "        \"title\": \"2022 Milwaukee Property Sales\",\n",
    "        \"description\": \"An Excel dashboard analyzing residential property sales in Milwaukee.\",\n",
    "        \"button_text\": \"Link to GitHub Repository\",\n",
    "        \"button_href\": \"https://github.com/rebekah999/Data-Analysis-Portfolio/blob/main/2022%20Milwaukee%20Property%20Sales%20Dashboard.xlsx\",\n",
    "        \"technology\": \"Excel\"\n",
    "    },\n",
    "    {\n",
    "        \"image_src\": \"https://rebekahfowler.com/Project%20Previews/Employee%20Churn%20Prediction.png\",\n",
    "        \"title\": \"Salifort Motors - Employee Churn Prediction\",\n",
    "        \"description\": \"A Jupyter Notebook where I used a logistic regression to predict whether an employee will churn.\",\n",
    "        \"button_text\": \"Link to GitHub Repository\",\n",
    "        \"button_href\": \"https://github.com/rebekah999/Data-Analysis-Portfolio/blob/main/Salifort%20Motors%20-%20Employee%20Churn%20Prediction.ipynb\",\n",
    "        \"technology\": \"Python\"\n",
    "    }\n",
    "    # Add more projects as needed\n",
    "]\n"
   ]
  },
  {
   "cell_type": "code",
   "execution_count": 5,
   "id": "2a597752-e04b-440b-8410-0c266fb9f491",
   "metadata": {},
   "outputs": [],
   "source": [
    "# Cert descriptions\n",
    "google_cert = \"Throughout this program, I delved deep into the realm of statistical analysis, Python programming, regression modeling, and machine learning. Through hands-on projects and real-world case studies, I honed my skills in data visualization using powerful tools like Jupyter Notebook and Tableau Software.\"\n",
    "datacamp_ds_cert = \"The track commenced with a solid foundation in Python for data science. Through interactive exercises, I gained a strong grasp of essential libraries like Pandas, Seaborn, and Scikit-Learn. These exercises solidified my understanding of data manipulation techniques, data visualization best practices, and statistical analysis methods.\"\n",
    "datacamp_da_cert = \"During this course, I learned how to import, clean, manipulate, and visualize data using popular Python libraries such as Pandas, NumPy, and Seaborn. Additionally, I worked with real-world datasets to enhance my data manipulation and exploratory data analysis skills.\""
   ]
  },
  {
   "cell_type": "code",
   "execution_count": 6,
   "id": "7ae3db52-ea4c-4c8d-9eb1-167106d82eb6",
   "metadata": {},
   "outputs": [],
   "source": [
    "certificates_list = [\n",
    "    {\n",
    "        \"name\": \"Google Advanced Data Analytics\",\n",
    "        \"date_issued\": \"2023\",\n",
    "        \"description\": \"Throughout this program, I delved deep into the realm of statistical analysis, Python programming, regression modeling, and machine learning. Through hands-on projects and real-world case studies, I honed my skills in data visualization using powerful tools like Jupyter Notebook and Tableau Software.\",\n",
    "        \"href\": \"https://coursera.org/share/bf149d6c12f26fac5349c37c6b3582eb\"\n",
    "    },\n",
    "    {\n",
    "        \"name\": \"Datacamp Associate Data Scientist in Python\",\n",
    "        \"date_issued\": \"2019\",\n",
    "        \"description\": \"The track commenced with a solid foundation in Python for data science. Through interactive exercises, I gained a strong grasp of essential libraries like Pandas, Seaborn, and Scikit-Learn. These exercises solidified my understanding of data manipulation techniques, data visualization best practices, and statistical analysis methods.\",\n",
    "        \"href\": \"https://www.datacamp.com/statement-of-accomplishment/track/123679caa06b239d7c6079b805ead208d4e12b8f?raw1\"\n",
    "    },\n",
    "    {\n",
    "        \"name\": \"Datacamp Data Analyst with Python\",\n",
    "        \"date_issued\": \"2018\",\n",
    "        \"description\": \"During this course, I learned how to import, clean, manipulate, and visualize data using popular Python libraries such as Pandas, NumPy, and Seaborn. Additionally, I worked with real-world datasets to enhance my data manipulation and exploratory data analysis skills.\",\n",
    "        \"href\": \"https://www.datacamp.com/statement-of-accomplishment/track/feeb81c30a63619614916de6cf27d6817e1d6fad?raw=1\"\n",
    "    },\n",
    "    {\n",
    "        \"name\": \"AOP Monarch High School - Online\",\n",
    "        \"date_issued\": \"2018\",\n",
    "        \"description\": \"I successfully completed my high school education in three years through homeschooling.\",\n",
    "        \"href\": \"\"\n",
    "    }\n",
    "]\n"
   ]
  },
  {
   "cell_type": "markdown",
   "id": "74d90c05-7aef-462b-829d-4ed4d65170bc",
   "metadata": {},
   "source": [
    "## Social Media Icons"
   ]
  },
  {
   "cell_type": "code",
   "execution_count": 7,
   "id": "71c65ded-a497-460d-913a-675c00384fba",
   "metadata": {},
   "outputs": [],
   "source": [
    "# Icon Sources \n",
    "github_icon = \"https://raw.githubusercontent.com/rebekah999/rebekah999.github.io/main/Website%20Icons/github.svg\"\n",
    "linkedin_icon = \"https://raw.githubusercontent.com/rebekah999/rebekah999.github.io/main/Website%20Icons/linkedin.svg\"\n",
    "medium_icon = \"https://raw.githubusercontent.com/rebekah999/rebekah999.github.io/main/Website%20Icons/medium.svg\""
   ]
  },
  {
   "cell_type": "code",
   "execution_count": 8,
   "id": "5f097f10",
   "metadata": {},
   "outputs": [],
   "source": [
    "# Social Media href \n",
    "github_link = \"https://github.com/rebekah999\"\n",
    "linkedin_link = \"https://www.linkedin.com/in/rebekah-fowler999\"\n",
    "medium_link = \"https://medium.com/@rebekah.fowler\""
   ]
  },
  {
   "cell_type": "code",
   "execution_count": 9,
   "id": "5d1ce91c-3366-428f-818c-24c705ced683",
   "metadata": {},
   "outputs": [],
   "source": [
    "# Social media icons without text\n",
    "social_media_icons = html.Div([\n",
    "    html.A(html.Img(src=github_icon, height=\"30\"), href=github_link, target=\"_blank\", className=\"icon\"),\n",
    "    html.A(html.Img(src=linkedin_icon, height=\"30\"), href=linkedin_link, target=\"_blank\", className=\"icon\"),\n",
    "    html.A(html.Img(src=medium_icon, height=\"30\"), href=medium_link, target=\"_blank\", className=\"icon\")\n",
    "], style={'display': 'flex', 'justify-content': 'space-between', 'width': '125px'})\n",
    "\n",
    "# Social media icons with text\n",
    "social_media_icons_with_text = html.Div([\n",
    "    dbc.NavLink(html.Div([html.Img(src=github_icon, height=\"100em\"), html.Span(\"GitHub\", style={\"padding\": \"1em\"})]), href=github_link, style={\"margin\": \"1em\"}),\n",
    "    dbc.NavLink(html.Div([html.Img(src=linkedin_icon, height=\"100em\"), html.Span(\"LinkedIn\", style={\"padding\": \"1em\"})]), href=linkedin_link, style={\"margin\": \"1em\"}),\n",
    "    dbc.NavLink(html.Div([html.Img(src=medium_icon, height=\"100em\"), html.Span(\"Medium\", style={\"padding\": \"1em\"})]), href=medium_link, style={\"margin\": \"1em\"})\n",
    "])\n"
   ]
  },
  {
   "cell_type": "code",
   "execution_count": 10,
   "id": "e3af37cc-6067-49b6-ad7f-058fa28e9313",
   "metadata": {},
   "outputs": [],
   "source": [
    "# My headshot image (for home page)\n",
    "headshot_img = dmc.Image(\n",
    "            src=\"https://images.unsplash.com/photo-1709705412674-68b8f1431852?q=80&w=3087&auto=format&fit=crop&ixlib=rb-4.0.3&ixid=M3wxMjA3fDB8MHxwaG90by1wYWdlfHx8fGVufDB8fHx8fA%3D%3D\",\n",
    "            alt=\"Picture of me\",\n",
    "            id=\"headshot-img\"\n",
    ")\n",
    "\n",
    "# Image of a laptop (for contact page)\n",
    "laptop_img = dmc.Image(\n",
    "            src=\"https://images.unsplash.com/photo-1517503632222-64085e36227b?q=80&w=2336&auto=format&fit=crop&ixlib=rb-4.0.3&ixid=M3wxMjA3fDB8MHxwaG90by1wYWdlfHx8fGVufDB8fHx8fA%3D%3D\", \n",
    "            alt=\"Picture of laptop\",\n",
    "            id=\"laptop-img\"\n",
    ")"
   ]
  },
  {
   "cell_type": "markdown",
   "id": "2869614c-0a0e-4363-b783-44ba841446e4",
   "metadata": {},
   "source": [
    "## App Components\n"
   ]
  },
  {
   "cell_type": "markdown",
   "id": "8a8b9fd9-6698-4423-a45a-bc2db215fdd8",
   "metadata": {},
   "source": [
    "## Footer"
   ]
  },
  {
   "cell_type": "code",
   "execution_count": 11,
   "id": "2853e2e8-92ca-4bbd-b404-461e92e860d0",
   "metadata": {},
   "outputs": [],
   "source": [
    "footer_content = dbc.Row([ \n",
    "        html.P(\"© 2024 Rebekah Fowler. All rights reserved.\"),\n",
    "        html.Div(social_media_icons)\n",
    "    ], id = \"footer-content\")\n",
    "\n",
    "# Footer component\n",
    "footer = dmc.Footer(\n",
    "    height=40,\n",
    "    fixed=True,\n",
    "    children=[footer_content]\n",
    ")"
   ]
  },
  {
   "cell_type": "markdown",
   "id": "33ba8a60-1dd8-4d3e-8ff0-b50502e1f79a",
   "metadata": {},
   "source": [
    "## Project Components\n"
   ]
  },
  {
   "cell_type": "code",
   "execution_count": 12,
   "id": "69c3e8f4-b86c-4462-9a83-5b41c313bb3a",
   "metadata": {},
   "outputs": [],
   "source": [
    "# Function to create project card\n",
    "def create_project_card(image_src, title, description, button_text, button_href, technology, button_color=\"blue\"):\n",
    "    return dmc.Card(\n",
    "        children=[\n",
    "            dmc.CardSection(\n",
    "                dmc.Image(\n",
    "                    src=image_src,\n",
    "                    height=160,\n",
    "                )\n",
    "            ),\n",
    "            dmc.Group(\n",
    "                [\n",
    "                    dbc.Row(\n",
    "            [\n",
    "                dbc.Col(dmc.Text(title, weight=500, style={\"padding-right\": \"5px\"}), width={\"size\": 9}),\n",
    "                dbc.Col(dmc.Badge(technology, color=\"blue\", variant=\"light\"), style={\"textAlign\": \"right\", \"position\": \"absolute\", \"right\": \"5px\"})\n",
    "            ],\n",
    "            #className=\"align-items-center justify-content-end\"\n",
    "        )\n",
    "                ],\n",
    "                position=\"apart\",\n",
    "                mt=\"md\",\n",
    "                mb=\"xs\",\n",
    "            ),\n",
    "            dmc.Text(\n",
    "                description,\n",
    "                size=\"sm\",\n",
    "                color=\"dimmed\",\n",
    "                style={\n",
    "                    \"height\": \"200px\", \n",
    "                    \"overflowY\": \"auto\",\n",
    "                    \"textOverflow\": \"ellipsis\",\n",
    "                    \"WebkitOverflowScrolling\": \"touch\",\n",
    "                    \"scrollbarWidth\": \"thin\",\n",
    "                    \"scrollbarColor\": \"rgba(0, 0, 0, 0.5) rgba(0, 0, 0, 0.1)\"\n",
    "                }\n",
    "            ),\n",
    "            html.A(dmc.Button(\n",
    "                button_text,\n",
    "                variant=\"light\",\n",
    "                color=button_color,\n",
    "                fullWidth=True,\n",
    "                mt=\"md\",\n",
    "                radius=\"md\",\n",
    "            ), href = button_href, target=\"_blank\", style={\"textDecoration\": \"none\"}),\n",
    "        ],\n",
    "        withBorder=True,\n",
    "        shadow=\"sm\",\n",
    "        radius=\"md\",\n",
    "        style={\"margin\": \"1em\"},\n",
    "    )\n",
    "\n"
   ]
  },
  {
   "cell_type": "code",
   "execution_count": 13,
   "id": "6a89705c-ea20-4528-aa04-8e12c6276642",
   "metadata": {},
   "outputs": [],
   "source": [
    "# Create Portfolio Project cards\n",
    "project_cards = [\n",
    "    create_project_card(\n",
    "        project[\"image_src\"],\n",
    "        project[\"title\"],\n",
    "        project[\"description\"],\n",
    "        project[\"button_text\"],\n",
    "        project[\"button_href\"],\n",
    "        project[\"technology\"]\n",
    "    )\n",
    "    for project in projects_list\n",
    "]"
   ]
  },
  {
   "cell_type": "markdown",
   "id": "5fc52bed-89e6-4e26-bdfb-82ddfab3cd1c",
   "metadata": {},
   "source": [
    "## Skills"
   ]
  },
  {
   "cell_type": "code",
   "execution_count": 14,
   "id": "cad03d94-fc73-41ea-8aca-cab06aebf6ff",
   "metadata": {},
   "outputs": [],
   "source": [
    "# Define a chip group for skills\n",
    "skills_chip_group = dmc.ChipGroup(\n",
    "    [dmc.Chip(x, value=x) for x in [\"Python\", \"SQL\", \"Tableau\", \"Excel\"]],\n",
    "    value=\"Python\"\n",
    ")"
   ]
  },
  {
   "cell_type": "code",
   "execution_count": 15,
   "id": "b38a8c18-fbe7-46b5-9a7e-6d3ee2d840f5",
   "metadata": {},
   "outputs": [],
   "source": [
    "# Function to create an accordion label with an avatar, skill label, and description\n",
    "def create_accordion_label(label, image, description):\n",
    "    return dmc.AccordionControl(\n",
    "        dmc.Group(\n",
    "            [\n",
    "                dmc.Avatar(src=image, size=\"lg\"),\n",
    "                html.Div(\n",
    "                    [\n",
    "                        dmc.Text(label),\n",
    "                        dmc.Text(description, size=\"sm\", weight=400, color=\"dimmed\")\n",
    "                    ]\n",
    "                )\n",
    "            ]\n",
    "        )\n",
    "    )\n",
    "# Function to create accordion content with skill details\n",
    "def create_accordion_content(content):\n",
    "    return dmc.AccordionPanel(dmc.Text(content, size=\"sm\"))\n",
    "    \n",
    "# Creating an accordion component to display skills information\n",
    "skills_accordion = dmc.Accordion(\n",
    "    chevronPosition=\"right\",\n",
    "    variant=\"contained\",\n",
    "    children=[\n",
    "        dmc.AccordionItem(\n",
    "            [\n",
    "                create_accordion_label(\n",
    "                    skill[\"label\"], skill[\"image\"], skill[\"description\"]\n",
    "                ),\n",
    "                create_accordion_content(skill[\"content\"])\n",
    "            ],\n",
    "            value=skill[\"id\"]\n",
    "        )\n",
    "        for skill in skills_list\n",
    "    ]\n",
    ")\n"
   ]
  },
  {
   "cell_type": "markdown",
   "id": "76055a74-0488-4117-8442-4715ea81da4e",
   "metadata": {},
   "source": [
    "## Navigation bar"
   ]
  },
  {
   "cell_type": "code",
   "execution_count": 16,
   "id": "dd741415-5242-43ef-8622-006120411adf",
   "metadata": {},
   "outputs": [],
   "source": [
    "# Navigation bar with links and social media icons\n",
    "nav = dbc.NavbarSimple(\n",
    "    children=[\n",
    "        dbc.NavItem(dbc.NavLink(\"Home\", id=\"home-link\", href=\"/\", className=\"nav-link\")),\n",
    "        dbc.NavItem(dbc.NavLink(\"About\", id=\"about-link\", href=\"/about\", className=\"nav-link\")),\n",
    "        dbc.NavItem(dbc.NavLink(\"Skills\", id=\"skills-link\", href=\"/skills\", className=\"nav-link\")),\n",
    "        dbc.NavItem(dbc.NavLink(\"Portfolio\", id=\"portfolio-link\", href=\"/portfolio\", className=\"nav-link\")),\n",
    "        dbc.NavItem(dbc.NavLink(\"Contact\", id=\"contact-link\", href=\"/contact\", className=\"nav-link\")),\n",
    "        social_media_icons\n",
    "    ],\n",
    "    brand=\"Rebekah Fowler\",\n",
    "    brand_href=\"/\",\n",
    "    color=\"primary\",\n",
    "    dark=True,\n",
    "    expand=\"lg\",\n",
    "    id = \"nav-bar\"\n",
    ")\n"
   ]
  },
  {
   "cell_type": "markdown",
   "id": "99421883-adca-485f-b85d-4bbe5c0db44a",
   "metadata": {},
   "source": [
    "## Education Timeline (for about page)"
   ]
  },
  {
   "cell_type": "code",
   "execution_count": 17,
   "id": "a3c5c4e2-4441-46ab-8770-9112c3c82703",
   "metadata": {},
   "outputs": [],
   "source": [
    "# Function to create education timeline component\n",
    "def generate_education_timeline(certificates_list):\n",
    "    # Initialize an empty list to store TimelineItem components\n",
    "    timeline_items = []\n",
    "\n",
    "    # Iterate over the certificates_list and create a TimelineItem for each certificate\n",
    "    for certificate in certificates_list:\n",
    "        timeline_item = dmc.TimelineItem(\n",
    "            title=certificate[\"name\"],\n",
    "            children=[\n",
    "                dmc.Text(\n",
    "                    [\n",
    "                        certificate[\"description\"],\n",
    "                        html.Br(),\n",
    "                        dmc.Anchor(\"Certification Issued {}\".format(certificate[\"date_issued\"]), href=certificate[\"href\"], size=\"sm\") if certificate[\"href\"] else None\n",
    "                    ],\n",
    "                    color=\"dimmed\",\n",
    "                    size=\"sm\"\n",
    "                )\n",
    "            ]\n",
    "        )\n",
    "        timeline_items.append(timeline_item)\n",
    "\n",
    "    # Create and return the education_timeline component with the generated TimelineItems\n",
    "    education_timeline = dmc.Timeline(\n",
    "        active=len(certificates_list) - 1,  # Set active item to the last index\n",
    "        bulletSize=15,\n",
    "        lineWidth=2,\n",
    "        children=timeline_items\n",
    "    )\n",
    "\n",
    "    return education_timeline"
   ]
  },
  {
   "cell_type": "code",
   "execution_count": 18,
   "id": "c4365b07-3482-45da-a2c1-7086af3fe0f6",
   "metadata": {},
   "outputs": [],
   "source": [
    "education_timeline = generate_education_timeline(certificates_list)"
   ]
  },
  {
   "cell_type": "markdown",
   "id": "d442eb0e-6f1c-434a-a48a-99433acf2843",
   "metadata": {},
   "source": [
    "## Page Layouts"
   ]
  },
  {
   "cell_type": "code",
   "execution_count": 19,
   "id": "9bd2b81c-4d78-4866-8e31-92d2ba32522e",
   "metadata": {},
   "outputs": [],
   "source": [
    "# Page Layouts\n",
    "\n",
    "# Home page layout\n",
    "home_side_content = [\n",
    "    html.H2(\"Hello, I'm Rebekah!\", className=\"home-title\", style = {\"padding-top\":\"250px\", \"padding-bottom\":\"0px\"}),\n",
    "    html.P(\"Data Analyst and Data Storyteller\", className=\"home-description\", style = {\"padding-bottom\":\"2em\"}),\n",
    "    html.A(dmc.Button(\"See My Work\", variant=\"light\"), href='/portfolio')\n",
    "]\n",
    "\n",
    "home_page = html.Div([\n",
    "    dbc.Row([\n",
    "        dbc.Col(home_side_content, style={\"margin\": \"1em\", \"text-align\": \"center\"}, width={\"sm\": 12, \"md\": 6}, id=\"home-side-content\"),\n",
    "        dbc.Col(headshot_img, className=\"hide-img\", width={\"sm\": 12, \"md\": 6})\n",
    "    ])\n",
    "], id=\"home\", className=\"col-to-row\")\n",
    "\n",
    "\n",
    "# About page layout\n",
    "about_page = html.Div([\n",
    "    html.H2(\"About Me\", className=\"about-title\"),\n",
    "    html.P([about_content], className=\"about-description\"),\n",
    "    dmc.Divider(size=\"md\"),\n",
    "    html.H2(\"Education\", className=\"about-title\"),\n",
    "    education_timeline\n",
    "], id=\"about\", className=\"content\")\n",
    "\n",
    "# Skills page layout\n",
    "skills_page = html.Div([\n",
    "    html.H2(\"Skills\", className=\"skills-title\"),\n",
    "    #html.P(\"This section is about me and my skills.\", className=\"skills-description\"),\n",
    "    skills_accordion\n",
    "], id=\"skills\", className=\"content\")\n",
    "\n",
    "# Portfolio page layout\n",
    "portfolio_page = html.Div([\n",
    "    dbc.Container([\n",
    "        html.H2(\"Featured Projects\", className=\"projects-title\"),\n",
    "        #html.P(\"Here are some of my projects and works.\", className=\"projects-description\"),\n",
    "        dbc.Row([\n",
    "            dbc.Col(card, className=\"portfolio-card\", sm = 12, md=6, lg = 4) for card in project_cards\n",
    "        ], align=\"center\")\n",
    "    ]),\n",
    "    # For the ability to filter projects by technologies used (to be implemented)\n",
    "    #html.H2(\"Projects\", className=\"projects-title\"),\n",
    "    #skills_chip_group\n",
    "], id=\"portfolio\", className=\"content\")\n",
    "\n",
    "# Contact page layout\n",
    "contact_side_content = [\n",
    "    html.H2(\"Where you can reach me\", className=\"contact-title\"),\n",
    "    #html.P(\"You can reach out to me using the following contact details.\", className=\"contact-description\"),\n",
    "    social_media_icons_with_text\n",
    "]\n",
    "\n",
    "contact_page = html.Div([\n",
    "    dbc.Row([\n",
    "        dbc.Col(laptop_img, width={\"sm\": 12, \"md\": 6}),\n",
    "        dbc.Col(contact_side_content, id=\"contact-side-content\", style={\"margin\": \"3em\", \"text-align\": \"center\"}, width={\"sm\": 12, \"md\": 6})\n",
    "    ])\n",
    "], id=\"contact\")\n"
   ]
  },
  {
   "cell_type": "code",
   "execution_count": 20,
   "id": "b61d430f-f4eb-41af-8d41-9e21f5c9c51d",
   "metadata": {},
   "outputs": [],
   "source": [
    "# URL to an external CSS file\n",
    "external_styles = \"https://rebekah999.github.io/styles.css\""
   ]
  },
  {
   "cell_type": "code",
   "execution_count": 21,
   "id": "3880bf22-ad98-47f7-92cc-61bbde961ba7",
   "metadata": {},
   "outputs": [
    {
     "data": {
      "text/html": [
       "\n",
       "        <iframe\n",
       "            width=\"100%\"\n",
       "            height=\"650\"\n",
       "            src=\"http://127.0.0.1:8050/\"\n",
       "            frameborder=\"0\"\n",
       "            allowfullscreen\n",
       "            \n",
       "        ></iframe>\n",
       "        "
      ],
      "text/plain": [
       "<IPython.lib.display.IFrame at 0x100d7d150>"
      ]
     },
     "metadata": {},
     "output_type": "display_data"
    }
   ],
   "source": [
    "# Initialize Dash app with external stylesheets\n",
    "app = dash.Dash(__name__, external_stylesheets=[dbc.themes.LUX, external_styles])\n",
    "\n",
    "app.title = \"Rebekah Fowler\"\n",
    "\n",
    "# Defining app layout\n",
    "app.layout = html.Div([\n",
    "    html.Meta(name='viewport', content='width=device-width, initial-scale=1'),\n",
    "    html.Link(\n",
    "        rel='shortcut icon',\n",
    "        href=\"/Users/rebekahfowler/Downloads/Website Icons/faviconio-logo/logo.png\"  # Update file served on GitHub\n",
    "    ),\n",
    "    dcc.Location(id='url', refresh=False),\n",
    "    html.Div([nav, html.Div(id='page-content'), footer], style={\"display\": \"flex\", \"flexDirection\": \"column\", \"overflow-x\": \"hidden\"})\n",
    "], id=\"app\")\n",
    "\n",
    "# Callback to update page content based on URL pathname\n",
    "@app.callback(\n",
    "    Output('page-content', 'children'), # Output component to display page content\n",
    "    [Input('url', 'pathname')] # Input component for URL pathname changes\n",
    ")\n",
    "def display_page(pathname):\n",
    "    if pathname == '/':\n",
    "        return home_page\n",
    "    elif pathname == '/about':\n",
    "        return about_page\n",
    "    elif pathname == '/skills':\n",
    "        return skills_page\n",
    "    elif pathname == '/portfolio':\n",
    "        return portfolio_page\n",
    "    elif pathname == '/contact':\n",
    "        return contact_page\n",
    "    else:\n",
    "        return html.H1(\"404 - Page not found\", style={'textAlign': 'center'})\n",
    "        \n",
    "# Run the app\n",
    "if __name__ == '__main__':\n",
    "    app.run_server()\n",
    "    #app.run_server(debug=True) # Run the app in debug mode\n"
   ]
  }
 ],
 "metadata": {
  "kernelspec": {
   "display_name": "Python 3 (ipykernel)",
   "language": "python",
   "name": "python3"
  },
  "language_info": {
   "codemirror_mode": {
    "name": "ipython",
    "version": 3
   },
   "file_extension": ".py",
   "mimetype": "text/x-python",
   "name": "python",
   "nbconvert_exporter": "python",
   "pygments_lexer": "ipython3",
   "version": "3.11.4"
  }
 },
 "nbformat": 4,
 "nbformat_minor": 5
}
